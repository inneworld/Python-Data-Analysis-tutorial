{
 "cells": [
  {
   "cell_type": "markdown",
   "id": "70e3e169",
   "metadata": {},
   "source": [
    "# 2. 출생아 수 및 합계출산율"
   ]
  },
  {
   "cell_type": "code",
   "execution_count": 1,
   "id": "b4867d2f",
   "metadata": {},
   "outputs": [
    {
     "data": {
      "text/html": [
       "<div>\n",
       "<style scoped>\n",
       "    .dataframe tbody tr th:only-of-type {\n",
       "        vertical-align: middle;\n",
       "    }\n",
       "\n",
       "    .dataframe tbody tr th {\n",
       "        vertical-align: top;\n",
       "    }\n",
       "\n",
       "    .dataframe thead th {\n",
       "        text-align: right;\n",
       "    }\n",
       "</style>\n",
       "<table border=\"1\" class=\"dataframe\">\n",
       "  <thead>\n",
       "    <tr style=\"text-align: right;\">\n",
       "      <th></th>\n",
       "      <th>2012</th>\n",
       "      <th>2013</th>\n",
       "      <th>2014</th>\n",
       "      <th>2015</th>\n",
       "      <th>2016</th>\n",
       "      <th>2017</th>\n",
       "      <th>2018</th>\n",
       "      <th>2019</th>\n",
       "      <th>2020</th>\n",
       "    </tr>\n",
       "  </thead>\n",
       "  <tbody>\n",
       "    <tr>\n",
       "      <th>출생아 수</th>\n",
       "      <td>484.600</td>\n",
       "      <td>436.500</td>\n",
       "      <td>435.400</td>\n",
       "      <td>438.400</td>\n",
       "      <td>406.200</td>\n",
       "      <td>357.800</td>\n",
       "      <td>326.800</td>\n",
       "      <td>302.700</td>\n",
       "      <td>272.30</td>\n",
       "    </tr>\n",
       "    <tr>\n",
       "      <th>합계 출산율</th>\n",
       "      <td>1.297</td>\n",
       "      <td>1.187</td>\n",
       "      <td>1.205</td>\n",
       "      <td>1.239</td>\n",
       "      <td>1.172</td>\n",
       "      <td>1.052</td>\n",
       "      <td>0.977</td>\n",
       "      <td>0.918</td>\n",
       "      <td>0.84</td>\n",
       "    </tr>\n",
       "  </tbody>\n",
       "</table>\n",
       "</div>"
      ],
      "text/plain": [
       "           2012     2013     2014     2015     2016     2017     2018  \\\n",
       "출생아 수   484.600  436.500  435.400  438.400  406.200  357.800  326.800   \n",
       "합계 출산율    1.297    1.187    1.205    1.239    1.172    1.052    0.977   \n",
       "\n",
       "           2019    2020  \n",
       "출생아 수   302.700  272.30  \n",
       "합계 출산율    0.918    0.84  "
      ]
     },
     "execution_count": 1,
     "metadata": {},
     "output_type": "execute_result"
    }
   ],
   "source": [
    "import pandas as pd\n",
    "df =  pd.read_excel('stat_142801.xls',skiprows = 2 , nrows = 2, index_col = 0)\n",
    "df"
   ]
  },
  {
   "cell_type": "code",
   "execution_count": 2,
   "id": "e75f71aa",
   "metadata": {},
   "outputs": [
    {
     "data": {
      "text/html": [
       "<div>\n",
       "<style scoped>\n",
       "    .dataframe tbody tr th:only-of-type {\n",
       "        vertical-align: middle;\n",
       "    }\n",
       "\n",
       "    .dataframe tbody tr th {\n",
       "        vertical-align: top;\n",
       "    }\n",
       "\n",
       "    .dataframe thead th {\n",
       "        text-align: right;\n",
       "    }\n",
       "</style>\n",
       "<table border=\"1\" class=\"dataframe\">\n",
       "  <thead>\n",
       "    <tr style=\"text-align: right;\">\n",
       "      <th></th>\n",
       "      <th>2012</th>\n",
       "      <th>2013</th>\n",
       "      <th>2014</th>\n",
       "      <th>2015</th>\n",
       "      <th>2016</th>\n",
       "      <th>2017</th>\n",
       "      <th>2018</th>\n",
       "      <th>2019</th>\n",
       "      <th>2020</th>\n",
       "    </tr>\n",
       "  </thead>\n",
       "  <tbody>\n",
       "    <tr>\n",
       "      <th>출생아 수</th>\n",
       "      <td>484.600</td>\n",
       "      <td>436.500</td>\n",
       "      <td>435.400</td>\n",
       "      <td>438.400</td>\n",
       "      <td>406.200</td>\n",
       "      <td>357.800</td>\n",
       "      <td>326.800</td>\n",
       "      <td>302.700</td>\n",
       "      <td>272.30</td>\n",
       "    </tr>\n",
       "    <tr>\n",
       "      <th>합계 출산율</th>\n",
       "      <td>1.297</td>\n",
       "      <td>1.187</td>\n",
       "      <td>1.205</td>\n",
       "      <td>1.239</td>\n",
       "      <td>1.172</td>\n",
       "      <td>1.052</td>\n",
       "      <td>0.977</td>\n",
       "      <td>0.918</td>\n",
       "      <td>0.84</td>\n",
       "    </tr>\n",
       "  </tbody>\n",
       "</table>\n",
       "</div>"
      ],
      "text/plain": [
       "           2012     2013     2014     2015     2016     2017     2018  \\\n",
       "출생아 수   484.600  436.500  435.400  438.400  406.200  357.800  326.800   \n",
       "합계 출산율    1.297    1.187    1.205    1.239    1.172    1.052    0.977   \n",
       "\n",
       "           2019    2020  \n",
       "출생아 수   302.700  272.30  \n",
       "합계 출산율    0.918    0.84  "
      ]
     },
     "execution_count": 2,
     "metadata": {},
     "output_type": "execute_result"
    }
   ],
   "source": [
    "df.rename(index = {'출생아\\xa0수' : '출생아 수'  , '합계\\xa0출산율':'합계 출산율'} , inplace = True)\n",
    "df"
   ]
  },
  {
   "cell_type": "code",
   "execution_count": 3,
   "id": "3efefd7e",
   "metadata": {},
   "outputs": [
    {
     "data": {
      "text/plain": [
       "2012    484.6\n",
       "2013    436.5\n",
       "2014    435.4\n",
       "2015    438.4\n",
       "2016    406.2\n",
       "2017    357.8\n",
       "2018    326.8\n",
       "2019    302.7\n",
       "2020    272.3\n",
       "Name: 출생아 수, dtype: float64"
      ]
     },
     "execution_count": 3,
     "metadata": {},
     "output_type": "execute_result"
    }
   ],
   "source": [
    "df.loc['출생아 수']"
   ]
  },
  {
   "cell_type": "code",
   "execution_count": 4,
   "id": "57f1762f",
   "metadata": {},
   "outputs": [],
   "source": [
    "import pandas as pd\n",
    "import matplotlib.pyplot as plt\n",
    "import matplotlib\n",
    "matplotlib.rcParams['font.family'] = 'Malgun Gothic' # Windows\n",
    "# matplotlib.rcParams['font.family'] = 'AppleGothic' # Mac\n",
    "matplotlib.rcParams['font.size'] = 15\n",
    "matplotlib.rcParams['axes.unicode_minus'] = False"
   ]
  },
  {
   "cell_type": "code",
   "execution_count": 5,
   "id": "d3498809",
   "metadata": {},
   "outputs": [
    {
     "data": {
      "text/html": [
       "<div>\n",
       "<style scoped>\n",
       "    .dataframe tbody tr th:only-of-type {\n",
       "        vertical-align: middle;\n",
       "    }\n",
       "\n",
       "    .dataframe tbody tr th {\n",
       "        vertical-align: top;\n",
       "    }\n",
       "\n",
       "    .dataframe thead th {\n",
       "        text-align: right;\n",
       "    }\n",
       "</style>\n",
       "<table border=\"1\" class=\"dataframe\">\n",
       "  <thead>\n",
       "    <tr style=\"text-align: right;\">\n",
       "      <th></th>\n",
       "      <th>출생아 수</th>\n",
       "      <th>합계 출산율</th>\n",
       "    </tr>\n",
       "  </thead>\n",
       "  <tbody>\n",
       "    <tr>\n",
       "      <th>2012</th>\n",
       "      <td>484.6</td>\n",
       "      <td>1.297</td>\n",
       "    </tr>\n",
       "    <tr>\n",
       "      <th>2013</th>\n",
       "      <td>436.5</td>\n",
       "      <td>1.187</td>\n",
       "    </tr>\n",
       "    <tr>\n",
       "      <th>2014</th>\n",
       "      <td>435.4</td>\n",
       "      <td>1.205</td>\n",
       "    </tr>\n",
       "    <tr>\n",
       "      <th>2015</th>\n",
       "      <td>438.4</td>\n",
       "      <td>1.239</td>\n",
       "    </tr>\n",
       "    <tr>\n",
       "      <th>2016</th>\n",
       "      <td>406.2</td>\n",
       "      <td>1.172</td>\n",
       "    </tr>\n",
       "    <tr>\n",
       "      <th>2017</th>\n",
       "      <td>357.8</td>\n",
       "      <td>1.052</td>\n",
       "    </tr>\n",
       "    <tr>\n",
       "      <th>2018</th>\n",
       "      <td>326.8</td>\n",
       "      <td>0.977</td>\n",
       "    </tr>\n",
       "    <tr>\n",
       "      <th>2019</th>\n",
       "      <td>302.7</td>\n",
       "      <td>0.918</td>\n",
       "    </tr>\n",
       "    <tr>\n",
       "      <th>2020</th>\n",
       "      <td>272.3</td>\n",
       "      <td>0.840</td>\n",
       "    </tr>\n",
       "  </tbody>\n",
       "</table>\n",
       "</div>"
      ],
      "text/plain": [
       "      출생아 수  합계 출산율\n",
       "2012  484.6   1.297\n",
       "2013  436.5   1.187\n",
       "2014  435.4   1.205\n",
       "2015  438.4   1.239\n",
       "2016  406.2   1.172\n",
       "2017  357.8   1.052\n",
       "2018  326.8   0.977\n",
       "2019  302.7   0.918\n",
       "2020  272.3   0.840"
      ]
     },
     "execution_count": 5,
     "metadata": {},
     "output_type": "execute_result"
    }
   ],
   "source": [
    "df = df.T # 모양 바꾸기 \n",
    "df"
   ]
  },
  {
   "cell_type": "code",
   "execution_count": 6,
   "id": "f185cc3c",
   "metadata": {},
   "outputs": [
    {
     "data": {
      "text/plain": [
       "[<matplotlib.lines.Line2D at 0x18a131e0430>]"
      ]
     },
     "execution_count": 6,
     "metadata": {},
     "output_type": "execute_result"
    },
    {
     "data": {
      "image/png": "[encoded data removed]",
      "text/plain": [
       "<Figure size 432x288 with 1 Axes>"
      ]
     },
     "metadata": {
      "needs_background": "light"
     },
     "output_type": "display_data"
    }
   ],
   "source": [
    "plt.plot(df.index , df['출생아 수'])\n",
    "plt.plot(df.index, df['합계 출산율'])"
   ]
  },
  {
   "cell_type": "code",
   "execution_count": 7,
   "id": "7ab45e4c",
   "metadata": {},
   "outputs": [
    {
     "data": {
      "text/plain": [
       "[<matplotlib.lines.Line2D at 0x18a146d21c0>]"
      ]
     },
     "execution_count": 7,
     "metadata": {},
     "output_type": "execute_result"
    },
    {
     "data": {
      "image/png": "[encoded data removed]",
      "text/plain": [
       "<Figure size 720x288 with 2 Axes>"
      ]
     },
     "metadata": {
      "needs_background": "light"
     },
     "output_type": "display_data"
    }
   ],
   "source": [
    "fig , ax1 = plt.subplots(figsize=(10,4))\n",
    "ax1.set_ylabel('출생아 수 (천 명)')\n",
    "ax1.set_ylim(250 , 700)\n",
    "ax1.set_yticks([300,400,500,600])\n",
    "ax1.bar(df.index, df['출생아 수'],color ='#ff812d')\n",
    "\n",
    "ax2 = ax1.twinx() # x축 대칭\n",
    "ax2.set_ylabel('합계 출산율 (가임여성) 1명 당 명')\n",
    "ax2.set_ylim(0 , 1.5)\n",
    "ax2.set_yticks([0,1,2])\n",
    "ax2.plot(df.index, df['합계 출산율'],color='#ffd100')"
   ]
  }
 ],
 "metadata": {
  "kernelspec": {
   "display_name": "Python 3 (ipykernel)",
   "language": "python",
   "name": "python3"
  },
  "language_info": {
   "codemirror_mode": {
    "name": "ipython",
    "version": 3
   },
   "file_extension": ".py",
   "mimetype": "text/x-python",
   "name": "python",
   "nbconvert_exporter": "python",
   "pygments_lexer": "ipython3",
   "version": "3.9.12"
  }
 },
 "nbformat": 4,
 "nbformat_minor": 5
}
