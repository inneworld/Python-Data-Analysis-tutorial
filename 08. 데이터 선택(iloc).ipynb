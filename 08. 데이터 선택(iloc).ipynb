{
 "cells": [
  {
   "cell_type": "markdown",
   "id": "6c4aeac6",
   "metadata": {},
   "source": [
    "# 8. 데이터 선택(iloc)\n",
    "위치를 이용하여 원하는 row에서 원하는 col 선택"
   ]
  },
  {
   "cell_type": "code",
   "execution_count": null,
   "id": "97a0cd10",
   "metadata": {},
   "outputs": [],
   "source": [
    "import pandas as pd\n",
    "df = pd.read_excel('score.xlsx',index_col='지원번호')\n",
    "df"
   ]
  },
  {
   "cell_type": "code",
   "execution_count": null,
   "id": "2a091303",
   "metadata": {},
   "outputs": [],
   "source": [
    "df.iloc[0] # 0번째 위치의 데이터"
   ]
  },
  {
   "cell_type": "code",
   "execution_count": null,
   "id": "c908b6eb",
   "metadata": {},
   "outputs": [],
   "source": [
    "df.iloc[0:5] # 0~4번째 위치의 데이터"
   ]
  },
  {
   "cell_type": "code",
   "execution_count": null,
   "id": "0d89ff6d",
   "metadata": {},
   "outputs": [],
   "source": [
    "df.iloc[0,1] # 0번째 위치의 1번째[학교] 데이터"
   ]
  },
  {
   "cell_type": "code",
   "execution_count": null,
   "id": "84687315",
   "metadata": {},
   "outputs": [],
   "source": [
    "df.iloc[[0,1],1] # 0,1번위치의 1번째[학교] 데이터"
   ]
  },
  {
   "cell_type": "code",
   "execution_count": null,
   "id": "01404a5a",
   "metadata": {},
   "outputs": [],
   "source": [
    "df.iloc[[0,1],[2,4]] # 0,1 번째 위치의 2,4번째 [키 , 영어] 데이터"
   ]
  },
  {
   "cell_type": "code",
   "execution_count": null,
   "id": "95ab700e",
   "metadata": {},
   "outputs": [],
   "source": [
    "df.iloc[0:5,3:8] # 0~4 위치으 ㅣ학생 중에서 , 3~7까지의 데이터 [국어 :사회]"
   ]
  }
 ],
 "metadata": {
  "kernelspec": {
   "display_name": "Python 3 (ipykernel)",
   "language": "python",
   "name": "python3"
  },
  "language_info": {
   "codemirror_mode": {
    "name": "ipython",
    "version": 3
   },
   "file_extension": ".py",
   "mimetype": "text/x-python",
   "name": "python",
   "nbconvert_exporter": "python",
   "pygments_lexer": "ipython3",
   "version": "3.9.12"
  }
 },
 "nbformat": 4,
 "nbformat_minor": 5
}
